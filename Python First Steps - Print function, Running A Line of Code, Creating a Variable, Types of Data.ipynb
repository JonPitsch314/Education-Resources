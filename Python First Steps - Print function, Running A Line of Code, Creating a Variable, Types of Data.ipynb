{
 "cells": [
  {
   "cell_type": "markdown",
   "id": "55639b48",
   "metadata": {},
   "source": [
    "# First Steps: Print Function, Running Code, Creating a Variable, Types of Data, Useful Resources"
   ]
  },
  {
   "cell_type": "markdown",
   "id": "285a235d",
   "metadata": {},
   "source": [
    "## *The Print Function*\n",
    "\n",
    "\n",
    "### - The print function in Python is a useful tool with a variety of purposes. You will most likely use it to print the result of some code that you've written, or the output of some kind of calculation. However, if you're writing code and it continues to fail, you can use the print function to help find where the error is happening. You can even use it to figure out if a python script is written in Python 2 or Python 3. \n",
    "\n",
    "### - Instead of just talking about it, let's practice using it. The basic format to run the print function is as follows:\n",
    "\n",
    "#### - The command print, followed by whatever you want to print contained within parenthesis: print(stuff)"
   ]
  },
  {
   "cell_type": "code",
   "execution_count": 4,
   "id": "d61d2932",
   "metadata": {},
   "outputs": [
    {
     "name": "stdout",
     "output_type": "stream",
     "text": [
      "stuff\n"
     ]
    }
   ],
   "source": [
    "# This is a comment. This is a good way to write notes without interfering with your python script.\n",
    "\n",
    "print('stuff')"
   ]
  },
  {
   "cell_type": "markdown",
   "id": "dc2db22d",
   "metadata": {},
   "source": [
    "### You can see above that we have successfully printed the word: stuff. Though you might notice that I put a quotation mark at the beginning and end of the word: 'stuff'. The quotation marks tell Python that I want it to print the string of letters contained within the quotation marks.\n",
    "\n",
    "### This can work for any combination of letters, number, and symbols:\n",
    "\n",
    "### For example:\n"
   ]
  },
  {
   "cell_type": "code",
   "execution_count": 3,
   "id": "5979c2a9",
   "metadata": {},
   "outputs": [
    {
     "name": "stdout",
     "output_type": "stream",
     "text": [
      "123\n",
      "1 and 2 and 3\n",
      "iubf3uh3498h3ef\n",
      "!&^$@@^$!&\n"
     ]
    }
   ],
   "source": [
    "print('123')\n",
    "\n",
    "print('1 and 2 and 3')\n",
    "\n",
    "print('iubf3uh3498h3ef')\n",
    "\n",
    "print('!&^$@@^$!&')"
   ]
  },
  {
   "cell_type": "markdown",
   "id": "15c2b27b",
   "metadata": {},
   "source": [
    "### - As you can see, the print function will print whatever words, letters, numbers, or symbols that you tell it to. Though it is not limited to only printing words, letters, numbers and symbols. It can also print variables.\n"
   ]
  },
  {
   "cell_type": "markdown",
   "id": "5b8bdc8e",
   "metadata": {},
   "source": [
    "## *Creating a Variable & Data Types*\n",
    "\n",
    "\n",
    "### - In the example below we will begin by creating a variable, stuff. Think of a variable as a place holder for some kind of information. It can be a number, a string of letters, a mathematical constant, the name of a planet, anything. \n",
    "\n",
    "### - After creating the variable, we will use the print function to discuss the different data types that exist in Python: string, integer, and float."
   ]
  },
  {
   "cell_type": "code",
   "execution_count": 12,
   "id": "1ea4a389",
   "metadata": {},
   "outputs": [
    {
     "name": "stdout",
     "output_type": "stream",
     "text": [
      "5\n",
      "5.0\n",
      "5\n",
      "5\n",
      "stuff\n"
     ]
    }
   ],
   "source": [
    "stuff = 5\n",
    "\n",
    "print(stuff)\n",
    "\n",
    "print(float(stuff))\n",
    "\n",
    "print(str(stuff))\n",
    "\n",
    "print('5')\n",
    "\n",
    "print('stuff')\n"
   ]
  },
  {
   "cell_type": "markdown",
   "id": "b17e4312",
   "metadata": {},
   "source": [
    "### - The first line in the output above is the number 5. It is an integer, or rather a whole number without a decimal point. \n",
    "\n",
    "### - The second line in the output above is what's called a float, or a number with a decimal point. In this case, the float(5) is equal to 5.0\n",
    "\n",
    "### - The third line in the output above is the string version of 5. Being a string means that it no longer functions as a number. Instead, Python now treats it like text, just like a word, letter, or symbol. \n",
    "\n",
    "### - The fourth line is also the string version of 5, though I changed the print function. You can see that there is no difference between the third and fourth line. They are both strings, and both considered text.\n",
    "\n",
    "### - The fifth line shows what happens if you put the variable inside of quotation marks. Instead of printing the number 5, it now prints the word stuff. "
   ]
  },
  {
   "cell_type": "markdown",
   "id": "70dbb0ab",
   "metadata": {},
   "source": [
    "## *Data Types Continued*\n",
    "\n",
    "### In the example below, we will continue to explore the difference between data types using basical mathematical functions, like addition ( + ), subtraction ( - ), mulitplication ( * ), and division ( / ). \n",
    "\n",
    "\n",
    "### To begin, we will create two new variables: stuff, things"
   ]
  },
  {
   "cell_type": "code",
   "execution_count": 15,
   "id": "ecf1eef1",
   "metadata": {},
   "outputs": [
    {
     "name": "stdout",
     "output_type": "stream",
     "text": [
      "7\n",
      "3\n",
      "10\n",
      "2.5\n"
     ]
    }
   ],
   "source": [
    "stuff = 5\n",
    "\n",
    "things = 2\n",
    "\n",
    "print(stuff+things)\n",
    "\n",
    "print(stuff-things)\n",
    "\n",
    "print(stuff*things)\n",
    "\n",
    "print(stuff/things)\n"
   ]
  },
  {
   "cell_type": "markdown",
   "id": "5e3f81d0",
   "metadata": {},
   "source": [
    "### Before I explain the different outputs, let's use make our print statements easier to understand"
   ]
  },
  {
   "cell_type": "code",
   "execution_count": 17,
   "id": "2ceb45ae",
   "metadata": {},
   "outputs": [
    {
     "name": "stdout",
     "output_type": "stream",
     "text": [
      "stuff plus things = 7\n",
      "stuff minus things = 3\n",
      "stuff multiplied by things = 10\n",
      "stuff divided by things = 2.5\n"
     ]
    }
   ],
   "source": [
    "stuff = 5\n",
    "\n",
    "things = 2\n",
    "\n",
    "stuff_and_things = 10\n",
    "\n",
    "print('stuff plus things = {}'.format(stuff+things))\n",
    "\n",
    "print('stuff minus things = {}'.format(stuff-things))\n",
    "\n",
    "print('stuff multiplied by things = {}'.format(stuff*things))\n",
    "\n",
    "print('stuff divided by things = {}'.format(stuff/things))\n"
   ]
  },
  {
   "cell_type": "markdown",
   "id": "c578da95",
   "metadata": {},
   "source": [
    "### - The variables in the cell above are integers. \n",
    "\n",
    "### - When running mathematical operations on integers, Python will default to treating them like intergers. That said, decimals will inevitably be created when using Python to do math calculations. When that happens, Python will treat the number like a float, allowing to have a decimal value.\n",
    "\n",
    "\n",
    "### - In the output above, three of the four lines are integers. 5 + 2 =7, 5 - 2 =3. and 5 x 2 = 10. The fourth line is 5 divided by 2 or, 5 / 2 = 2.5. \n",
    "\n",
    "### Now, as much as Python likes to treat integers like integers, it also likes to treat float values like float values. You can see in the example below that changing one of the variables, stuff, to a float value, causes all of the final outputs to be float values. This happens even though the variable things is still an integer. Float values supercede integers. "
   ]
  },
  {
   "cell_type": "code",
   "execution_count": 20,
   "id": "94d46eff",
   "metadata": {},
   "outputs": [
    {
     "name": "stdout",
     "output_type": "stream",
     "text": [
      "stuff plus things = 7.0\n",
      "stuff minus things = 3.0\n",
      "stuff multiplied by things = 10.0\n",
      "stuff divided by things = 2.5\n"
     ]
    }
   ],
   "source": [
    "stuff = 5.0\n",
    "\n",
    "things = 2\n",
    "\n",
    "stuff_and_things = 10\n",
    "\n",
    "print('stuff plus things = {}'.format(stuff+things))\n",
    "\n",
    "print('stuff minus things = {}'.format(stuff-things))\n",
    "\n",
    "print('stuff multiplied by things = {}'.format(stuff*things))\n",
    "\n",
    "print('stuff divided by things = {}'.format(stuff/things))"
   ]
  },
  {
   "cell_type": "markdown",
   "id": "2a629740",
   "metadata": {},
   "source": [
    "### However, there are also functions in Python known as: int( ), float( ), and str( ). \n",
    "\n",
    "### int( ) converts numbers to integers\n",
    "\n",
    "### float( ) converts numbers to float values\n",
    "\n",
    "### and str( ) converts anything to a string\n",
    "\n",
    "### In the example below, using int( ) on the float value 5.0 changes the final outputs to be identical to the first example where both variables were integers."
   ]
  },
  {
   "cell_type": "code",
   "execution_count": 21,
   "id": "610c4401",
   "metadata": {},
   "outputs": [
    {
     "name": "stdout",
     "output_type": "stream",
     "text": [
      "stuff plus things = 7\n",
      "stuff minus things = 3\n",
      "stuff multiplied by things = 10\n",
      "stuff divided by things = 2.5\n"
     ]
    }
   ],
   "source": [
    "stuff = int(5.0)\n",
    "\n",
    "things = 2\n",
    "\n",
    "stuff_and_things = 10\n",
    "\n",
    "print('stuff plus things = {}'.format(stuff+things))\n",
    "\n",
    "print('stuff minus things = {}'.format(stuff-things))\n",
    "\n",
    "print('stuff multiplied by things = {}'.format(stuff*things))\n",
    "\n",
    "print('stuff divided by things = {}'.format(stuff/things))"
   ]
  },
  {
   "cell_type": "markdown",
   "id": "59fe0e4f",
   "metadata": {},
   "source": [
    "### The same is true for float( ). \n",
    "\n",
    "### Using float( ) on the things variable causes the final output to change to float values"
   ]
  },
  {
   "cell_type": "code",
   "execution_count": 22,
   "id": "08cce4eb",
   "metadata": {},
   "outputs": [
    {
     "name": "stdout",
     "output_type": "stream",
     "text": [
      "stuff plus things = 7.0\n",
      "stuff minus things = 3.0\n",
      "stuff multiplied by things = 10.0\n",
      "stuff divided by things = 2.5\n"
     ]
    }
   ],
   "source": [
    "stuff = 5\n",
    "\n",
    "things = float(2)\n",
    "\n",
    "stuff_and_things = 10\n",
    "\n",
    "print('stuff plus things = {}'.format(stuff+things))\n",
    "\n",
    "print('stuff minus things = {}'.format(stuff-things))\n",
    "\n",
    "print('stuff multiplied by things = {}'.format(stuff*things))\n",
    "\n",
    "print('stuff divided by things = {}'.format(stuff/things))"
   ]
  },
  {
   "cell_type": "markdown",
   "id": "a4d27cb7",
   "metadata": {},
   "source": [
    "## Admittedly, this may not be the most exciting topic; but understanding data types in Python is essential. I cannot tell you how much time I've spent troubleshooting issues in code when the real problem has been a conflict in data type.\n",
    "\n",
    "### For example, multiplying a string and an integer will give you the following error:"
   ]
  },
  {
   "cell_type": "code",
   "execution_count": 24,
   "id": "39d03a3b",
   "metadata": {},
   "outputs": [
    {
     "name": "stdout",
     "output_type": "stream",
     "text": [
      "stuff multiplied by things = 55\n"
     ]
    }
   ],
   "source": [
    "stuff = '5'\n",
    "\n",
    "things = 2\n",
    "\n",
    "print('stuff multiplied by things = {}'.format(stuff*things))"
   ]
  },
  {
   "cell_type": "markdown",
   "id": "202e9e0d",
   "metadata": {},
   "source": [
    "### 5 x 2 does not equal 55. Instead, the output above is the string value 5 multiplied by two. Or rather it is the string value 5 repeated after itself. This can be done to unlimited times, like so:"
   ]
  },
  {
   "cell_type": "code",
   "execution_count": 27,
   "id": "3a7393fe",
   "metadata": {},
   "outputs": [
    {
     "name": "stdout",
     "output_type": "stream",
     "text": [
      "stuff multiplied by things = 5555555555555555555555555555555555555555555555555555555555555555555555555555555555555555555555555555555555555555555555555555555555555555555555555555555555555555555555555555555555555555555555555555555555555555555555555555555555555555555555555555555555555555555555555555555555555555555555555555555555555555555555555555555555555555555555555555555555555555555555555555555555555555555555555555555555555555555555555555555555555555555555555555555555555555555555555555555555555555555555555555555555555555555555555555555555555555555555555555555555555555555555555555555555555555555555555555555555555555555555555555555555555555555555555555555555555555555555555555555555555555555555555555555555555555555555555555555555555555555555555555555555555555555555555555555555555555555555555555555555555555555555555555555555555555555555555555555555555555555555555555555555555555555555555555555555555555555555555555555555555555555555555555555555555555555555555555555555555555555555555555555555555555555555555555555555555555\n"
     ]
    }
   ],
   "source": [
    "stuff = '5'\n",
    "\n",
    "things = 1000\n",
    "\n",
    "print('stuff multiplied by things = {}'.format(stuff*things))"
   ]
  },
  {
   "cell_type": "markdown",
   "id": "8c4d2679",
   "metadata": {},
   "source": [
    "### The output above is the string value 5 repeated 1000 times. \n",
    "\n",
    "### You can do the same with any string:"
   ]
  },
  {
   "cell_type": "code",
   "execution_count": 30,
   "id": "a4464220",
   "metadata": {},
   "outputs": [
    {
     "name": "stdout",
     "output_type": "stream",
     "text": [
      "stuff multiplied by things = 1,2,3,4,5,1,2,3,4,5,1,2,3,4,5,1,2,3,4,5,1,2,3,4,5,1,2,3,4,5,1,2,3,4,5,1,2,3,4,5,1,2,3,4,5,1,2,3,4,5,1,2,3,4,5,1,2,3,4,5,1,2,3,4,5,1,2,3,4,5,1,2,3,4,5,1,2,3,4,5,1,2,3,4,5,1,2,3,4,5,1,2,3,4,5,1,2,3,4,5,1,2,3,4,5,1,2,3,4,5,1,2,3,4,5,1,2,3,4,5,1,2,3,4,5,1,2,3,4,5,1,2,3,4,5,1,2,3,4,5,1,2,3,4,5,1,2,3,4,5,1,2,3,4,5,1,2,3,4,5,1,2,3,4,5,1,2,3,4,5,1,2,3,4,5,1,2,3,4,5,1,2,3,4,5,1,2,3,4,5,1,2,3,4,5,1,2,3,4,5,1,2,3,4,5,1,2,3,4,5,1,2,3,4,5,1,2,3,4,5,1,2,3,4,5,1,2,3,4,5,1,2,3,4,5,1,2,3,4,5,1,2,3,4,5,1,2,3,4,5,1,2,3,4,5,1,2,3,4,5,1,2,3,4,5,1,2,3,4,5,1,2,3,4,5,1,2,3,4,5,1,2,3,4,5,1,2,3,4,5,1,2,3,4,5,1,2,3,4,5,1,2,3,4,5,1,2,3,4,5,1,2,3,4,5,1,2,3,4,5,1,2,3,4,5,1,2,3,4,5,1,2,3,4,5,1,2,3,4,5,1,2,3,4,5,1,2,3,4,5,1,2,3,4,5,1,2,3,4,5,1,2,3,4,5,1,2,3,4,5,1,2,3,4,5,1,2,3,4,5,1,2,3,4,5,1,2,3,4,5,1,2,3,4,5,1,2,3,4,5,1,2,3,4,5,1,2,3,4,5,1,2,3,4,5,1,2,3,4,5,1,2,3,4,5,1,2,3,4,5,1,2,3,4,5,1,2,3,4,5,1,2,3,4,5,1,2,3,4,5,1,2,3,4,5,1,2,3,4,5,1,2,3,4,5,1,2,3,4,5,1,2,3,4,5,1,2,3,4,5,1,2,3,4,5,1,2,3,4,5,1,2,3,4,5,1,2,3,4,5,\n"
     ]
    }
   ],
   "source": [
    "stuff = '1,2,3,4,5,'\n",
    "\n",
    "things = 100\n",
    "\n",
    "print('stuff multiplied by things = {}'.format(stuff*things))"
   ]
  },
  {
   "cell_type": "code",
   "execution_count": 32,
   "id": "477881aa",
   "metadata": {},
   "outputs": [
    {
     "name": "stdout",
     "output_type": "stream",
     "text": [
      "stuff multiplied by things = sunset, platinum, lotus,sunset, platinum, lotus,sunset, platinum, lotus,sunset, platinum, lotus,sunset, platinum, lotus,sunset, platinum, lotus,sunset, platinum, lotus,sunset, platinum, lotus,sunset, platinum, lotus,sunset, platinum, lotus,sunset, platinum, lotus,sunset, platinum, lotus,sunset, platinum, lotus,sunset, platinum, lotus,sunset, platinum, lotus,sunset, platinum, lotus,sunset, platinum, lotus,sunset, platinum, lotus,sunset, platinum, lotus,sunset, platinum, lotus,sunset, platinum, lotus,sunset, platinum, lotus,sunset, platinum, lotus,sunset, platinum, lotus,sunset, platinum, lotus,sunset, platinum, lotus,sunset, platinum, lotus,sunset, platinum, lotus,sunset, platinum, lotus,sunset, platinum, lotus,sunset, platinum, lotus,sunset, platinum, lotus,sunset, platinum, lotus,sunset, platinum, lotus,sunset, platinum, lotus,sunset, platinum, lotus,sunset, platinum, lotus,sunset, platinum, lotus,sunset, platinum, lotus,sunset, platinum, lotus,sunset, platinum, lotus,sunset, platinum, lotus,sunset, platinum, lotus,sunset, platinum, lotus,sunset, platinum, lotus,sunset, platinum, lotus,sunset, platinum, lotus,sunset, platinum, lotus,sunset, platinum, lotus,sunset, platinum, lotus,sunset, platinum, lotus,sunset, platinum, lotus,sunset, platinum, lotus,sunset, platinum, lotus,sunset, platinum, lotus,sunset, platinum, lotus,sunset, platinum, lotus,sunset, platinum, lotus,sunset, platinum, lotus,sunset, platinum, lotus,sunset, platinum, lotus,sunset, platinum, lotus,sunset, platinum, lotus,sunset, platinum, lotus,sunset, platinum, lotus,sunset, platinum, lotus,sunset, platinum, lotus,sunset, platinum, lotus,sunset, platinum, lotus,sunset, platinum, lotus,sunset, platinum, lotus,sunset, platinum, lotus,sunset, platinum, lotus,sunset, platinum, lotus,sunset, platinum, lotus,sunset, platinum, lotus,sunset, platinum, lotus,sunset, platinum, lotus,sunset, platinum, lotus,sunset, platinum, lotus,sunset, platinum, lotus,sunset, platinum, lotus,sunset, platinum, lotus,sunset, platinum, lotus,sunset, platinum, lotus,sunset, platinum, lotus,sunset, platinum, lotus,sunset, platinum, lotus,sunset, platinum, lotus,sunset, platinum, lotus,sunset, platinum, lotus,sunset, platinum, lotus,sunset, platinum, lotus,sunset, platinum, lotus,sunset, platinum, lotus,sunset, platinum, lotus,sunset, platinum, lotus,sunset, platinum, lotus,sunset, platinum, lotus,sunset, platinum, lotus,\n"
     ]
    }
   ],
   "source": [
    "stuff = 'sunset, platinum, lotus,'\n",
    "\n",
    "things = 100\n",
    "\n",
    "print('stuff multiplied by things = {}'.format(stuff*things))"
   ]
  },
  {
   "cell_type": "markdown",
   "id": "1ff1cc6e",
   "metadata": {},
   "source": [
    "### String values multiplied by float values will give you the following error:"
   ]
  },
  {
   "cell_type": "code",
   "execution_count": 33,
   "id": "acbfa99a",
   "metadata": {},
   "outputs": [
    {
     "ename": "TypeError",
     "evalue": "can't multiply sequence by non-int of type 'float'",
     "output_type": "error",
     "traceback": [
      "\u001b[0;31m---------------------------------------------------------------------------\u001b[0m",
      "\u001b[0;31mTypeError\u001b[0m                                 Traceback (most recent call last)",
      "Input \u001b[0;32mIn [33]\u001b[0m, in \u001b[0;36m<cell line: 5>\u001b[0;34m()\u001b[0m\n\u001b[1;32m      1\u001b[0m stuff \u001b[38;5;241m=\u001b[39m \u001b[38;5;124m'\u001b[39m\u001b[38;5;124msunset, platinum, lotus,\u001b[39m\u001b[38;5;124m'\u001b[39m\n\u001b[1;32m      3\u001b[0m things \u001b[38;5;241m=\u001b[39m \u001b[38;5;241m2.0\u001b[39m\n\u001b[0;32m----> 5\u001b[0m \u001b[38;5;28mprint\u001b[39m(\u001b[38;5;124m'\u001b[39m\u001b[38;5;124mstuff multiplied by things = \u001b[39m\u001b[38;5;132;01m{}\u001b[39;00m\u001b[38;5;124m'\u001b[39m\u001b[38;5;241m.\u001b[39mformat(\u001b[43mstuff\u001b[49m\u001b[38;5;241;43m*\u001b[39;49m\u001b[43mthings\u001b[49m))\n",
      "\u001b[0;31mTypeError\u001b[0m: can't multiply sequence by non-int of type 'float'"
     ]
    }
   ],
   "source": [
    "stuff = 'sunset, platinum, lotus,'\n",
    "\n",
    "things = 2.0\n",
    "\n",
    "print('stuff multiplied by things = {}'.format(stuff*things))"
   ]
  },
  {
   "cell_type": "markdown",
   "id": "9192f71e",
   "metadata": {},
   "source": [
    "### Instead of repeating the phrase: 'sunset, platinum, lotus', the process breaks. \n",
    "\n",
    "### This leads us to another essential Python skill, reading error messages. The error messages that Python prints are intended to help you solve an issue in your code. Often this will be a missing comma, or an extra paranthesis somewhere. Though sometimes it is a more serious issue like this one, where we have conflicting data types.\n",
    "\n",
    "### The best way to solve Python errors, after attempting to solve them yourself, is to search the error message online. It is almost guaranteed that someone else in the world has already faced the same problem that you are, and there is already a solution posted online. \n",
    "\n",
    "### Stack Overflow (https://stackoverflow.com/) is one of the best resources. Though there are many other blogs and forums out there.\n",
    "\n",
    "### In this case, searching: 'can't multiply sequence by non-int of type 'float'' led me to this page: https://stackoverflow.com/questions/485789/why-do-i-get-typeerror-cant-multiply-sequence-by-non-int-of-type-float . There you can find comments from other people who have had this problem. Some of their comments won't be useful to you, others may help you fix your problem. It just takes time and research to find the solution that best suits your problem."
   ]
  },
  {
   "cell_type": "code",
   "execution_count": null,
   "id": "38c91095",
   "metadata": {},
   "outputs": [],
   "source": []
  }
 ],
 "metadata": {
  "kernelspec": {
   "display_name": "Python 3 (ipykernel)",
   "language": "python",
   "name": "python3"
  },
  "language_info": {
   "codemirror_mode": {
    "name": "ipython",
    "version": 3
   },
   "file_extension": ".py",
   "mimetype": "text/x-python",
   "name": "python",
   "nbconvert_exporter": "python",
   "pygments_lexer": "ipython3",
   "version": "3.9.12"
  }
 },
 "nbformat": 4,
 "nbformat_minor": 5
}
